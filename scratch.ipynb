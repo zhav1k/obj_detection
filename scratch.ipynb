{
 "cells": [
  {
   "cell_type": "code",
   "execution_count": 31,
   "metadata": {
    "collapsed": true
   },
   "outputs": [],
   "source": [
    "import torch\n",
    "import torchvision.models as models\n",
    "import torch.nn as nn\n",
    "import torch.nn.functional as F\n",
    "model = models.vgg16_bn(pretrained=True)\n",
    "for param in model.parameters():\n",
    "    param.requires_grad = False"
   ]
  },
  {
   "cell_type": "code",
   "execution_count": 14,
   "outputs": [
    {
     "name": "stdout",
     "output_type": "stream",
     "text": [
      "VGG(\n",
      "  (features): Sequential(\n",
      "    (0): Conv2d(3, 64, kernel_size=(3, 3), stride=(1, 1), padding=(1, 1))\n",
      "    (1): BatchNorm2d(64, eps=1e-05, momentum=0.1, affine=True, track_running_stats=True)\n",
      "    (2): ReLU(inplace=True)\n",
      "    (3): Conv2d(64, 64, kernel_size=(3, 3), stride=(1, 1), padding=(1, 1))\n",
      "    (4): BatchNorm2d(64, eps=1e-05, momentum=0.1, affine=True, track_running_stats=True)\n",
      "    (5): ReLU(inplace=True)\n",
      "    (6): MaxPool2d(kernel_size=2, stride=2, padding=0, dilation=1, ceil_mode=False)\n",
      "    (7): Conv2d(64, 128, kernel_size=(3, 3), stride=(1, 1), padding=(1, 1))\n",
      "    (8): BatchNorm2d(128, eps=1e-05, momentum=0.1, affine=True, track_running_stats=True)\n",
      "    (9): ReLU(inplace=True)\n",
      "    (10): Conv2d(128, 128, kernel_size=(3, 3), stride=(1, 1), padding=(1, 1))\n",
      "    (11): BatchNorm2d(128, eps=1e-05, momentum=0.1, affine=True, track_running_stats=True)\n",
      "    (12): ReLU(inplace=True)\n",
      "    (13): MaxPool2d(kernel_size=2, stride=2, padding=0, dilation=1, ceil_mode=False)\n",
      "    (14): Conv2d(128, 256, kernel_size=(3, 3), stride=(1, 1), padding=(1, 1))\n",
      "    (15): BatchNorm2d(256, eps=1e-05, momentum=0.1, affine=True, track_running_stats=True)\n",
      "    (16): ReLU(inplace=True)\n",
      "    (17): Conv2d(256, 256, kernel_size=(3, 3), stride=(1, 1), padding=(1, 1))\n",
      "    (18): BatchNorm2d(256, eps=1e-05, momentum=0.1, affine=True, track_running_stats=True)\n",
      "    (19): ReLU(inplace=True)\n",
      "    (20): Conv2d(256, 256, kernel_size=(3, 3), stride=(1, 1), padding=(1, 1))\n",
      "    (21): BatchNorm2d(256, eps=1e-05, momentum=0.1, affine=True, track_running_stats=True)\n",
      "    (22): ReLU(inplace=True)\n",
      "    (23): MaxPool2d(kernel_size=2, stride=2, padding=0, dilation=1, ceil_mode=False)\n",
      "    (24): Conv2d(256, 512, kernel_size=(3, 3), stride=(1, 1), padding=(1, 1))\n",
      "    (25): BatchNorm2d(512, eps=1e-05, momentum=0.1, affine=True, track_running_stats=True)\n",
      "    (26): ReLU(inplace=True)\n",
      "    (27): Conv2d(512, 512, kernel_size=(3, 3), stride=(1, 1), padding=(1, 1))\n",
      "    (28): BatchNorm2d(512, eps=1e-05, momentum=0.1, affine=True, track_running_stats=True)\n",
      "    (29): ReLU(inplace=True)\n",
      "    (30): Conv2d(512, 512, kernel_size=(3, 3), stride=(1, 1), padding=(1, 1))\n",
      "    (31): BatchNorm2d(512, eps=1e-05, momentum=0.1, affine=True, track_running_stats=True)\n",
      "    (32): ReLU(inplace=True)\n",
      "    (33): MaxPool2d(kernel_size=2, stride=2, padding=0, dilation=1, ceil_mode=False)\n",
      "    (34): Conv2d(512, 512, kernel_size=(3, 3), stride=(1, 1), padding=(1, 1))\n",
      "    (35): BatchNorm2d(512, eps=1e-05, momentum=0.1, affine=True, track_running_stats=True)\n",
      "    (36): ReLU(inplace=True)\n",
      "    (37): Conv2d(512, 512, kernel_size=(3, 3), stride=(1, 1), padding=(1, 1))\n",
      "    (38): BatchNorm2d(512, eps=1e-05, momentum=0.1, affine=True, track_running_stats=True)\n",
      "    (39): ReLU(inplace=True)\n",
      "    (40): Conv2d(512, 512, kernel_size=(3, 3), stride=(1, 1), padding=(1, 1))\n",
      "    (41): BatchNorm2d(512, eps=1e-05, momentum=0.1, affine=True, track_running_stats=True)\n",
      "    (42): ReLU(inplace=True)\n",
      "    (43): MaxPool2d(kernel_size=2, stride=2, padding=0, dilation=1, ceil_mode=False)\n",
      "  )\n",
      "  (avgpool): AdaptiveAvgPool2d(output_size=(7, 7))\n",
      "  (classifier): Sequential(\n",
      "    (0): Linear(in_features=25088, out_features=4096, bias=True)\n",
      "    (1): ReLU(inplace=True)\n",
      "    (2): Dropout(p=0.5, inplace=False)\n",
      "    (3): Linear(in_features=4096, out_features=4096, bias=True)\n",
      "    (4): ReLU(inplace=True)\n",
      "    (5): Dropout(p=0.5, inplace=False)\n",
      "    (6): Linear(in_features=4096, out_features=1000, bias=True)\n",
      "  )\n",
      ")\n"
     ]
    }
   ],
   "source": [
    "print(model)"
   ],
   "metadata": {
    "collapsed": false,
    "pycharm": {
     "name": "#%%\n"
    }
   }
  },
  {
   "cell_type": "code",
   "execution_count": 32,
   "outputs": [],
   "source": [
    "class YoloV1(nn.Module):\n",
    "    def __init__(self):\n",
    "        super(YoloV1, self).__init__()\n",
    "        self.features = models.vgg16_bn(pretrained=True).features\n",
    "        for param in self.features.parameters():\n",
    "            param.requires_grad = False #freeze parameters\n",
    "        self.avg_pool = nn.AdaptiveAvgPool2d(output_size= (7,7))\n",
    "        self.classifier = nn.Sequential(\n",
    "            nn.Linear(512 * 7 * 7, 4096),\n",
    "            nn.ReLU(inplace=True),\n",
    "            nn.Dropout(),\n",
    "            nn.Linear(4096 ,7*7*30),\n",
    "        )\n",
    "\n",
    "    def forward(self, x):\n",
    "        x = self.features(x)\n",
    "        x = self.avg_pool(x)\n",
    "        x = x.view(x.size(0), -1)\n",
    "        x = self.classifier(x)\n",
    "        x = F.sigmoid(x)\n",
    "        x = x.view(-1,7,7,30)\n",
    "        return x"
   ],
   "metadata": {
    "collapsed": false,
    "pycharm": {
     "name": "#%%\n"
    }
   }
  },
  {
   "cell_type": "code",
   "execution_count": 33,
   "outputs": [
    {
     "name": "stderr",
     "output_type": "stream",
     "text": [
      "/home/zhav1k/anaconda3/envs/object_detection/lib/python3.9/site-packages/torch/nn/functional.py:1639: UserWarning: nn.functional.sigmoid is deprecated. Use torch.sigmoid instead.\n",
      "  warnings.warn(\"nn.functional.sigmoid is deprecated. Use torch.sigmoid instead.\")\n"
     ]
    },
    {
     "data": {
      "text/plain": "tensor([[[[0.5244, 0.4745, 0.4568,  ..., 0.5570, 0.5170, 0.5021],\n          [0.4884, 0.5255, 0.4768,  ..., 0.4443, 0.5815, 0.4760],\n          [0.5013, 0.5076, 0.5329,  ..., 0.4919, 0.5101, 0.4938],\n          ...,\n          [0.5275, 0.5166, 0.5257,  ..., 0.5271, 0.4859, 0.5075],\n          [0.4984, 0.5051, 0.4775,  ..., 0.4654, 0.4715, 0.4934],\n          [0.4616, 0.4779, 0.4966,  ..., 0.4731, 0.5360, 0.4775]],\n\n         [[0.5166, 0.5659, 0.4839,  ..., 0.4885, 0.4815, 0.4930],\n          [0.5451, 0.4824, 0.5689,  ..., 0.4871, 0.4806, 0.5256],\n          [0.4663, 0.5458, 0.5406,  ..., 0.5502, 0.4753, 0.5151],\n          ...,\n          [0.5203, 0.5023, 0.5271,  ..., 0.4822, 0.5780, 0.4650],\n          [0.5449, 0.4874, 0.4873,  ..., 0.4943, 0.5395, 0.5655],\n          [0.4694, 0.4634, 0.4753,  ..., 0.5238, 0.5270, 0.4898]],\n\n         [[0.5131, 0.5336, 0.5138,  ..., 0.4639, 0.4995, 0.4923],\n          [0.5269, 0.5031, 0.5620,  ..., 0.4863, 0.5426, 0.5142],\n          [0.5235, 0.5253, 0.4810,  ..., 0.4631, 0.5602, 0.5002],\n          ...,\n          [0.5089, 0.5227, 0.5131,  ..., 0.5464, 0.5105, 0.4993],\n          [0.4575, 0.5405, 0.4700,  ..., 0.5527, 0.5216, 0.4964],\n          [0.5444, 0.4647, 0.5164,  ..., 0.4636, 0.4604, 0.4760]],\n\n         ...,\n\n         [[0.5154, 0.4974, 0.5021,  ..., 0.5275, 0.4751, 0.4608],\n          [0.5144, 0.5529, 0.5184,  ..., 0.5341, 0.4992, 0.5083],\n          [0.5003, 0.5076, 0.5484,  ..., 0.4767, 0.5426, 0.4906],\n          ...,\n          [0.5101, 0.5414, 0.4929,  ..., 0.5103, 0.4613, 0.4842],\n          [0.4840, 0.5180, 0.4636,  ..., 0.4947, 0.4989, 0.5190],\n          [0.4815, 0.4790, 0.4842,  ..., 0.5318, 0.4949, 0.4866]],\n\n         [[0.5553, 0.4570, 0.4560,  ..., 0.4867, 0.5088, 0.4624],\n          [0.5028, 0.5423, 0.4824,  ..., 0.5155, 0.5324, 0.4718],\n          [0.4837, 0.5028, 0.4887,  ..., 0.4698, 0.4889, 0.4198],\n          ...,\n          [0.4553, 0.4869, 0.4814,  ..., 0.4953, 0.5012, 0.4628],\n          [0.5047, 0.4886, 0.5238,  ..., 0.4908, 0.5175, 0.5054],\n          [0.5273, 0.4815, 0.4681,  ..., 0.4886, 0.4975, 0.5275]],\n\n         [[0.5070, 0.5368, 0.4706,  ..., 0.5414, 0.4350, 0.5059],\n          [0.4785, 0.5277, 0.4783,  ..., 0.4885, 0.4793, 0.5318],\n          [0.5241, 0.4692, 0.5293,  ..., 0.5193, 0.5200, 0.4718],\n          ...,\n          [0.4894, 0.4537, 0.4876,  ..., 0.5376, 0.4984, 0.5133],\n          [0.4948, 0.5156, 0.5169,  ..., 0.5259, 0.4290, 0.4604],\n          [0.4956, 0.5144, 0.4997,  ..., 0.5174, 0.4973, 0.5023]]]],\n       grad_fn=<ViewBackward>)"
     },
     "execution_count": 33,
     "metadata": {},
     "output_type": "execute_result"
    }
   ],
   "source": [
    "mod = YoloV1()\n",
    "\n",
    "test_tensor = torch.ones([1, 3, 224, 224])\n",
    "mod.forward(test_tensor)"
   ],
   "metadata": {
    "collapsed": false,
    "pycharm": {
     "name": "#%%\n"
    }
   }
  },
  {
   "cell_type": "code",
   "execution_count": null,
   "outputs": [],
   "source": [],
   "metadata": {
    "collapsed": false,
    "pycharm": {
     "name": "#%%\n"
    }
   }
  }
 ],
 "metadata": {
  "kernelspec": {
   "display_name": "Python 3",
   "language": "python",
   "name": "python3"
  },
  "language_info": {
   "codemirror_mode": {
    "name": "ipython",
    "version": 2
   },
   "file_extension": ".py",
   "mimetype": "text/x-python",
   "name": "python",
   "nbconvert_exporter": "python",
   "pygments_lexer": "ipython2",
   "version": "2.7.6"
  }
 },
 "nbformat": 4,
 "nbformat_minor": 0
}